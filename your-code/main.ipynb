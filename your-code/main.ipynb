{
 "cells": [
  {
   "cell_type": "markdown",
   "metadata": {},
   "source": [
    "# Introduction To Probability\n",
    "## Challenge 1\n",
    "\n",
    "A and B are events of a probability space with $(\\omega, \\sigma, P)$ such that $P(A) = 0.3$, $P(B) = 0.6$ and $P(A \\cap B) = 0.1$\n",
    "\n",
    "Which of the following statements are false?\n",
    "* $P(A \\cup B) = 0.6$\n",
    "* $P(A \\cap B^{C}) = 0.2$\n",
    "* $P(A \\cap (B \\cup B^{C})) = 0.4$\n",
    "* $P(A^{C} \\cap B^{C}) = 0.3$\n",
    "* $P((A \\cap B)^{C}) = 0.9$"
   ]
  },
  {
   "cell_type": "code",
   "execution_count": 1,
   "metadata": {},
   "outputs": [
    {
     "name": "stdout",
     "output_type": "stream",
     "text": [
      "Statement 1: P(A ∪ B) = 0.6 is False\n",
      "Statement 2: P(A ∩ B^C) = 0.2 is False\n",
      "Statement 3: P(A ∩ (B ∪ B^C)) = 0.3 is False\n",
      "Statement 4: P(A^C ∩ B^C) = 0.3 is False\n",
      "Statement 5: P((A ∩ B)^C) = 0.9 is False\n"
     ]
    }
   ],
   "source": [
    "# your solution here\n",
    "P_A = 0.3\n",
    "P_B = 0.6\n",
    "A_inter_B = 0.1\n",
    "\n",
    "print(f\"Statement 1: P(A ∪ B) = 0.6 is {(P_A + P_B - A_inter_B) == 0.6}\")\n",
    "print(f\"Statement 2: P(A ∩ B^C) = 0.2 is {(P_A - A_inter_B) == 0.2}\")\n",
    "print(f\"Statement 3: P(A ∩ (B ∪ B^C)) = 0.3 is {(1 - A_inter_B) == 0.4}\")\n",
    "print(f\"Statement 4: P(A^C ∩ B^C) = 0.3 is {(1 - P_A + P_B - A_inter_B) == 0.3}\")\n",
    "print(f\"Statement 5: P((A ∩ B)^C) = 0.9 is {((1 - A_inter_B) - (P_A - A_inter_B)) == 0.9}\")"
   ]
  },
  {
   "cell_type": "markdown",
   "metadata": {},
   "source": [
    "## Challenge 2\n",
    "There is a box with 10 white balls, 12 red balls and 8 black balls. Calculate the probability of:\n",
    "* Taking a white ball out.\n",
    "* Taking a white ball out after taking a black ball out.\n",
    "* Taking a red ball out after taking a black and a red ball out.\n",
    "* Taking a red ball out after taking a black and a red ball out with reposition.\n",
    "\n",
    "**Hint**: Reposition means putting back the ball into the box after taking it out."
   ]
  },
  {
   "cell_type": "code",
   "execution_count": 3,
   "metadata": {},
   "outputs": [
    {
     "name": "stdout",
     "output_type": "stream",
     "text": [
      "Probability of taking a white ball out: 0.3333333333333333\n",
      "Probability of taking a white ball out after taking a black ball out: 0.3448275862068966\n",
      "Probability of taking a red ball out after taking a black and a red ball out: 0.39285714285714285\n",
      "Probability of taking a red ball out after taking a black and a red ball out with reposition: 0.4\n"
     ]
    }
   ],
   "source": [
    "# your solution here\n",
    "white_balls = 10\n",
    "red_balls = 12\n",
    "black_balls = 8\n",
    "Total_balls = white_balls + red_balls + black_balls\n",
    "\n",
    "print(f\"Probability of taking a white ball out: {white_balls / Total_balls}\")\n",
    "print(f\"Probability of taking a white ball out after taking a black ball out: {white_balls / (Total_balls - 1)}\")\n",
    "print(f\"Probability of taking a red ball out after taking a black and a red ball out: {(red_balls - 1) / (Total_balls - 2)}\")\n",
    "print(f\"Probability of taking a red ball out after taking a black and a red ball out with reposition: {red_balls / Total_balls}\")"
   ]
  },
  {
   "cell_type": "markdown",
   "metadata": {},
   "source": [
    "## Challenge 3\n",
    "\n",
    "You are planning to go on a picnic today but the morning is cloudy. You hate rain so you don't know whether to go out or stay home! To help you make a decision, you gather the following data about rainy days:\n",
    "\n",
    "* Knowing that it is a rainy day, the probability of cloudy is 50%!\n",
    "* The probability of any day (rainy or not) starting off cloudy is 40%. \n",
    "* This month is usually dry so only 3 of 30 days (10%) tend to be rainy. \n",
    "\n",
    "What is the probability of rain, given the day started cloudy?"
   ]
  },
  {
   "cell_type": "code",
   "execution_count": 5,
   "metadata": {},
   "outputs": [
    {
     "name": "stdout",
     "output_type": "stream",
     "text": [
      "The probability of rain given cloudy is: 0.125\n"
     ]
    }
   ],
   "source": [
    "# your solution here\n",
    "Prob_cloudy_rain = 0.5\n",
    "Prob_cloudy = 0.4\n",
    "Prob_rain = 0.1\n",
    "\n",
    "print(f\"The probability of rain given cloudy is: {(Prob_cloudy_rain * Prob_rain) / Prob_cloudy}\")"
   ]
  },
  {
   "cell_type": "markdown",
   "metadata": {},
   "source": [
    "## Challenge 4\n",
    "\n",
    "One thousand people were asked through a telephone survey whether they thought more street lighting is needed at night or not.\n",
    "\n",
    "Out of the 480 men that answered the survey, 324 said yes and 156 said no. On the other hand, out of the 520 women that answered, 351 said yes and 169 said no. \n",
    "\n",
    "We wonder if men and women have a different opinions about the street lighting matter. Is gender relevant or irrelevant to the question?\n",
    "\n",
    "Consider the following events:\n",
    "- The answer is yes, so the person that answered thinks that more street lighting is needed.\n",
    "- The person who answered is a man.\n",
    "\n",
    "We want to know if these events are independent, that is, if the fact of wanting more light depends on whether one is male or female. Are these events independent or not?\n",
    "\n",
    "**Hint**: To clearly compare the answers by gender, it is best to place the data in a table."
   ]
  },
  {
   "cell_type": "code",
   "execution_count": 8,
   "metadata": {},
   "outputs": [
    {
     "name": "stdout",
     "output_type": "stream",
     "text": [
      "       Yes   No\n",
      "Men    324  156\n",
      "Women  351  169 \n",
      "\n",
      "The Chi-square test statistic is: 0.0\n",
      "The Chi-square test p-value is: 1.0\n"
     ]
    }
   ],
   "source": [
    "# your code here\n",
    "import pandas as pd\n",
    "from scipy.stats import chi2_contingency\n",
    "\n",
    "Men_yes = 324\n",
    "Men_no = 156\n",
    "Women_yes = 351\n",
    "Women_no = 169\n",
    "\n",
    "answer = {\n",
    "    'Yes': [Men_yes, Women_yes],\n",
    "    'No' : [Men_no, Women_no]\n",
    "}\n",
    "gender_answer = pd.DataFrame(answer, index=['Men', 'Women'])\n",
    "print(gender_answer, '\\n')\n",
    "\n",
    "chi2_statistic, chi2_p_value, _, _ = chi2_contingency(gender_answer)\n",
    "print(f'The Chi-square test statistic is: {chi2_statistic}')\n",
    "print(f'The Chi-square test p-value is: {chi2_p_value}')"
   ]
  }
 ],
 "metadata": {
  "kernelspec": {
   "display_name": "Python 3",
   "language": "python",
   "name": "python3"
  },
  "language_info": {
   "codemirror_mode": {
    "name": "ipython",
    "version": 3
   },
   "file_extension": ".py",
   "mimetype": "text/x-python",
   "name": "python",
   "nbconvert_exporter": "python",
   "pygments_lexer": "ipython3",
   "version": "3.11.5"
  }
 },
 "nbformat": 4,
 "nbformat_minor": 2
}
